{
 "cells": [
  {
   "cell_type": "code",
   "execution_count": 1,
   "id": "723aa82c-46a7-4e4a-bc23-775cfc9ef232",
   "metadata": {},
   "outputs": [
    {
     "name": "stdout",
     "output_type": "stream",
     "text": [
      "Jobs Scraped Sucessfully\n"
     ]
    }
   ],
   "source": [
    "import requests\n",
    "from bs4 import BeautifulSoup\n",
    "import pandas as pd\n",
    "\n",
    "def scrap():\n",
    "    response = requests.get('https://wuzzuf.net/search/jobs/?a=hpb%7Cspbg&q=machine%20learning%20jobs%20in%20Egypt')\n",
    "    soup = BeautifulSoup(response.content,'lxml')\n",
    "\n",
    "    titles = soup.find_all('h2',{'class':'css-193uk2c'})\n",
    "    # translate to list comprehension\n",
    "    titles_list = [title.a.text for title in titles]\n",
    "\n",
    "    links_list = [title.a['href'] for title in titles]\n",
    "\n",
    "    occupations = soup.find_all('div', {'class': 'css-5jhz9n'})\n",
    "    occupations_list = [occupation.text for occupation in occupations]\n",
    "\n",
    "    companies = soup.find_all(\"a\",{'class': 'css-ipsyv7'})\n",
    "    companies_list = [company.text for company in companies]\n",
    "\n",
    "    specs = soup.find_all('div', {'class':'css-1rhj4yg'})\n",
    "    specs_list = [spec.text for spec in specs]\n",
    "\n",
    "    scraped_data = {}\n",
    "    scraped_data['titles'] =  titles_list\n",
    "    scraped_data['links'] = links_list\n",
    "    scraped_data['occupations'] = occupations_list\n",
    "    scraped_data['companies'] = companies_list\n",
    "    scraped_data['specs'] = specs_list\n",
    "\n",
    "    table = pd.DataFrame(scraped_data)\n",
    "    table.to_csv('Sara_Scraped_file_py.csv', index = False)\n",
    "    print('Jobs Scraped Sucessfully')\n",
    "    return table\n",
    "\n",
    "\n",
    "if __name__ == '__main__':\n",
    "    scrap()\n",
    "\n"
   ]
  },
  {
   "cell_type": "markdown",
   "id": "b40246e6-38e8-41f6-b3b3-638d67f2a408",
   "metadata": {
    "scrolled": true
   },
   "source": [
    "# I will check import from .py file to this notebook\n",
    "# first import scrap() from file PY file Sara scrap function\n",
    "\n",
    "from sara_scrap_function import scrap\n",
    "scrap()"
   ]
  },
  {
   "cell_type": "code",
   "execution_count": 5,
   "id": "71d1a6b9-f2a5-43fe-b4d6-86369a2eda32",
   "metadata": {},
   "outputs": [
    {
     "name": "stdout",
     "output_type": "stream",
     "text": [
      "Jobs Scraped Sucessfully\n"
     ]
    },
    {
     "data": {
      "text/plain": [
       "['AI / Machine Learning Developer',\n",
       " 'Senior Machine Learning',\n",
       " 'Blockchain Specialist',\n",
       " 'Data Scientist',\n",
       " 'Math Teacher - Secondary',\n",
       " 'Senior Quantitative Analyst',\n",
       " 'Senior AI Engineer',\n",
       " 'Senior Data Scientist – NLP & LLM Applications',\n",
       " 'Senior AI Engineer',\n",
       " 'Data Science Instructor',\n",
       " 'AI Researcher / AI Engineer',\n",
       " 'Software Engineer',\n",
       " 'Maintenance CNC/Dental',\n",
       " 'Technical Lead',\n",
       " 'AI Engineer - Travel Tech']"
      ]
     },
     "execution_count": 5,
     "metadata": {},
     "output_type": "execute_result"
    }
   ],
   "source": [
    "from titles_only_sara import get_titles\n",
    "get_titles()"
   ]
  },
  {
   "cell_type": "code",
   "execution_count": null,
   "id": "4eaef631-fd89-4945-82c4-366af2c1d5b4",
   "metadata": {},
   "outputs": [],
   "source": []
  }
 ],
 "metadata": {
  "kernelspec": {
   "display_name": "base",
   "language": "python",
   "name": "python3"
  },
  "language_info": {
   "codemirror_mode": {
    "name": "ipython",
    "version": 3
   },
   "file_extension": ".py",
   "mimetype": "text/x-python",
   "name": "python",
   "nbconvert_exporter": "python",
   "pygments_lexer": "ipython3",
   "version": "3.12.7"
  }
 },
 "nbformat": 4,
 "nbformat_minor": 5
}
